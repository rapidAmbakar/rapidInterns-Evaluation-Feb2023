{
 "cells": [
  {
   "attachments": {},
   "cell_type": "markdown",
   "id": "981599e1",
   "metadata": {},
   "source": [
    "# Rapid Ratings🛎️🍽️! (40 Points)"
   ]
  },
  {
   "cell_type": "markdown",
   "id": "acbe105a",
   "metadata": {},
   "source": [
    "## 1.1 Overview 😶‍🌫️\n",
    "\n",
    "Since now you're familiar with the dataset. Your task is to train a Machine Learning model to predict the rating of the restaurants. You may try various methods feel free the implement unique approaches to create the best ML model.\n"
   ]
  },
  {
   "cell_type": "code",
   "execution_count": null,
   "id": "4de18412",
   "metadata": {},
   "outputs": [],
   "source": [
    "#Load the Data Here"
   ]
  },
  {
   "cell_type": "markdown",
   "id": "e8b302cd",
   "metadata": {},
   "source": [
    "\n",
    "## 2.1 Data Cleaning and Feature Selection 🧹 (5 Points)"
   ]
  },
  {
   "cell_type": "code",
   "execution_count": null,
   "id": "5e3a9c64",
   "metadata": {},
   "outputs": [],
   "source": [
    "# Your Code here ✏️"
   ]
  },
  {
   "cell_type": "markdown",
   "id": "e14300e0",
   "metadata": {},
   "source": [
    "## 3.1 Feature Engineering 👷🏽‍♂️ (15 Points)"
   ]
  },
  {
   "cell_type": "code",
   "execution_count": null,
   "id": "423dd3d4",
   "metadata": {},
   "outputs": [],
   "source": [
    "# Your Code here ✏️"
   ]
  },
  {
   "cell_type": "markdown",
   "id": "96100b02",
   "metadata": {},
   "source": [
    "## 4.1 Model Training 🧠 (15 Points)"
   ]
  },
  {
   "cell_type": "code",
   "execution_count": null,
   "id": "317a0e25",
   "metadata": {},
   "outputs": [],
   "source": [
    "# Your Code here ✏️"
   ]
  },
  {
   "cell_type": "markdown",
   "id": "40b57a78",
   "metadata": {},
   "source": [
    "## 5.1 Model Scoring 🚀 (5 Points)\n",
    "\n",
    "Make a proper plot using visualization tools to visualize very model performance"
   ]
  },
  {
   "cell_type": "code",
   "execution_count": null,
   "id": "5e602c8a",
   "metadata": {},
   "outputs": [],
   "source": [
    "# Your Code here ✏️"
   ]
  },
  {
   "cell_type": "markdown",
   "id": "88cbb9e6",
   "metadata": {},
   "source": [
    "Amazing!! Well Done. Hope you performed the best. Push this python notebook to your github repo in order to evaluate"
   ]
  }
 ],
 "metadata": {
  "kernelspec": {
   "display_name": "Python 3 (ipykernel)",
   "language": "python",
   "name": "python3"
  },
  "language_info": {
   "codemirror_mode": {
    "name": "ipython",
    "version": 3
   },
   "file_extension": ".py",
   "mimetype": "text/x-python",
   "name": "python",
   "nbconvert_exporter": "python",
   "pygments_lexer": "ipython3",
   "version": "3.9.12"
  }
 },
 "nbformat": 4,
 "nbformat_minor": 5
}
