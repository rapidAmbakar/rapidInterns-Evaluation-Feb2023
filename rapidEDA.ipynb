{
 "cells": [
  {
   "cell_type": "markdown",
   "id": "2d89e461-02f4-432a-b1de-6cfb56850426",
   "metadata": {
    "tags": []
   },
   "source": [
    "# Mission Rapid Analysis 🌎 (40 points)\n",
    "\n",
    "\n",
    "### 1.1 Overview ✉️\n",
    "\n",
    "Welcome to your mission! In this notebook, you will download a dataset containing restaurants' information in the state of California, US. The dataset will then be transformed, processed and prepared in a required format. This clean dataset will then be used to answer some analytical questions and create a few data visualizations in Python.\n",
    "\n",
    "This is a template notebook that has some code already filled-in to help you on your way. There are also cells that require you to fill in the python code to solve specific problems. There are sections of the notebook that contain a points tally for code written. \n",
    "\n",
    "**Each section of this notebook is largely independent, so if you get stuck on a problem you can always move on to the next one.**"
   ]
  },
  {
   "cell_type": "markdown",
   "id": "ba460626-7d60-4959-b7bb-4609817482d6",
   "metadata": {},
   "source": [
    "### 1.2 Tools & Technologies 🪛\n",
    "\n",
    "- This exercise will be carried out using the [Python](https://www.python.org/) programming language and will rely hevily on the [Pandas](https://pandas.pydata.org/) library for data manipulation.\n",
    "- You may use any of [Matplotlib](https://matplotlib.org/), [Seaborn](https://seaborn.pydata.org/) or [Plotly](https://plotly.com/python/) packages for data visualization.\n",
    "- We will be using [Jupyter notebooks](https://jupyter.org/) to run Python code in order to view and interact better with our data and visualizations.\n",
    "- You are free to use [Google Colab](https://colab.research.google.com/) which provides an easy-to-use Jupyter interface.\n",
    "- When not in Colab, it is recommended to run this Jupyter Notebook within an [Anaconda](https://continuum.io/) environment\n",
    "- You can use any other Python packages that you deem fit for this project.\n",
    "\n",
    "> ⚠ **Ensure that your Python version is 3.9 or higher**\n",
    "\n",
    "![](https://upload.wikimedia.org/wikipedia/commons/1/1b/Blue_Python_3.9_Shield_Badge.svg)\n",
    "\n",
    "**Language**\n",
    "\n",
    "![Python](https://img.shields.io/badge/python-3670A0?style=for-the-badge&logo=python&logoColor=ffdd54)\n",
    "\n",
    "**Environments & Packages**\n",
    "\n",
    "![Anaconda](https://img.shields.io/badge/Anaconda-%2344A833.svg?style=for-the-badge&logo=anaconda&logoColor=white)\n",
    "![Jupyter Notebook](https://img.shields.io/badge/jupyter-%23FA0F00.svg?style=for-the-badge&logo=jupyter&logoColor=white)\n",
    "![Pandas](https://img.shields.io/badge/pandas-%23150458.svg?style=for-the-badge&logo=pandas&logoColor=white)\n",
    "![Matplotlib](https://img.shields.io/badge/Matplotlib-%23ffffff.svg?style=for-the-badge&logo=Matplotlib&logoColor=black)\n",
    "![Plotly](https://img.shields.io/badge/Plotly-%233F4F75.svg?style=for-the-badge&logo=plotly&logoColor=white)\n"
   ]
  },
  {
   "cell_type": "markdown",
   "id": "383edc6e-9462-4b0b-b1aa-ca33055b38e3",
   "metadata": {},
   "source": [
    "### 2.1 Read California Restaurants 🔍 (3 points)\n",
    "\n",
    "In this section, we will load the dataset from this link :\n",
    "\n",
    "https://rapidopso365-my.sharepoint.com/:u:/g/personal/pushkar_ambatkar_rapidops_com/EZneJNDj5f1CrIY-ZjMDxakBJOYJjI2VAQqSZgBYdkCzjQ?e=2tpkQM\n",
    "\n",
    "\n",
    "- Ensure that pandas and plotly are installed (possibly via pip or poetry)\n",
    "- The dataset is about 300 MB in size and time-to-download depends on internet speed and availability\n",
    "- Download the dataset using Python into this notebook and load it into a pandas dataframe\n"
   ]
  },
  {
   "cell_type": "code",
   "execution_count": 1,
   "id": "ed554fdc-0de7-4cd4-8e93-725038033590",
   "metadata": {},
   "outputs": [],
   "source": [
    "from matplotlib import pyplot as plt\n",
    "%matplotlib inline\n",
    "\n",
    "import pandas as pd\n",
    "import plotly.express as px\n",
    "import numpy as np\n",
    "\n",
    "CELL_HEIGHT: int = 50\n",
    "\n",
    "# Initialize helpers to ignore pandas warnings and resize columns and cells\n",
    "pd.set_option(\"chained_assignment\", None)\n",
    "pd.set_option(\"display.max_rows\", 50)\n",
    "pd.set_option(\"display.max_columns\", 500)\n",
    "pd.set_option('display.max_colwidth', CELL_HEIGHT)"
   ]
  },
  {
   "cell_type": "code",
   "execution_count": 2,
   "id": "0e60d6b3-cea6-4a12-b85d-15748a6be4ea",
   "metadata": {},
   "outputs": [
    {
     "name": "stdout",
     "output_type": "stream",
     "text": [
      "CPU times: total: 19 s\n",
      "Wall time: 19 s\n"
     ]
    }
   ],
   "source": [
    "%%time\n",
    "# ✏️ YOUR CODE HERE\n",
    "# df: pd.DataFrame = ?\n",
    "# Downloaded offline to load\n",
    "df = pd.read_json('california_restaurants.json')"
   ]
  },
  {
   "cell_type": "markdown",
   "id": "521e6f26-8256-4f7b-b662-4580448d07a0",
   "metadata": {},
   "source": [
    "Create a restaurant ID column to uniquely index each restaurant\n"
   ]
  },
  {
   "cell_type": "code",
   "execution_count": 4,
   "id": "d2eb6ee1-51cb-4c01-8bee-9bb87ff6c7bb",
   "metadata": {},
   "outputs": [
    {
     "data": {
      "text/html": [
       "<div>\n",
       "<style scoped>\n",
       "    .dataframe tbody tr th:only-of-type {\n",
       "        vertical-align: middle;\n",
       "    }\n",
       "\n",
       "    .dataframe tbody tr th {\n",
       "        vertical-align: top;\n",
       "    }\n",
       "\n",
       "    .dataframe thead th {\n",
       "        text-align: right;\n",
       "    }\n",
       "</style>\n",
       "<table border=\"1\" class=\"dataframe\">\n",
       "  <thead>\n",
       "    <tr style=\"text-align: right;\">\n",
       "      <th></th>\n",
       "      <th>country</th>\n",
       "      <th>subregion</th>\n",
       "      <th>city</th>\n",
       "      <th>brand_name</th>\n",
       "      <th>categories</th>\n",
       "      <th>latitude</th>\n",
       "      <th>longitude</th>\n",
       "      <th>area</th>\n",
       "      <th>address</th>\n",
       "      <th>menu</th>\n",
       "      <th>description</th>\n",
       "      <th>public_transit</th>\n",
       "      <th>cross_street</th>\n",
       "      <th>restaurant_website</th>\n",
       "      <th>phone_number</th>\n",
       "      <th>primary_cuisine</th>\n",
       "      <th>dining_style</th>\n",
       "      <th>executive_chef_name</th>\n",
       "      <th>parking_info</th>\n",
       "      <th>dress_code</th>\n",
       "      <th>entertainment</th>\n",
       "      <th>operating_hours</th>\n",
       "      <th>price_range_id</th>\n",
       "      <th>price_range</th>\n",
       "      <th>payment_options</th>\n",
       "      <th>maximum_days_advance_for_reservation</th>\n",
       "      <th>rating</th>\n",
       "      <th>rating_count</th>\n",
       "      <th>rating_by_feature</th>\n",
       "      <th>rating_distribution</th>\n",
       "      <th>review_count</th>\n",
       "      <th>review_topics</th>\n",
       "      <th>awards</th>\n",
       "      <th>experiences</th>\n",
       "      <th>tags</th>\n",
       "      <th>editorial_lists</th>\n",
       "      <th>checklist</th>\n",
       "      <th>safety_precautions</th>\n",
       "      <th>order_online_link</th>\n",
       "      <th>facebook</th>\n",
       "      <th>menu_url</th>\n",
       "      <th>popular_dishes</th>\n",
       "      <th>daily_reservation_count</th>\n",
       "      <th>restaurant_id</th>\n",
       "    </tr>\n",
       "  </thead>\n",
       "  <tbody>\n",
       "    <tr>\n",
       "      <th>0</th>\n",
       "      <td>United States</td>\n",
       "      <td>California</td>\n",
       "      <td>Los Angeles</td>\n",
       "      <td>Luv2Eat Thai Bistro</td>\n",
       "      <td>[Thai]</td>\n",
       "      <td>34.097510</td>\n",
       "      <td>-118.335921</td>\n",
       "      <td>Hollywood</td>\n",
       "      <td>6660 W Sunset Blvd, Ste P, CA, Los Angeles, 90...</td>\n",
       "      <td>[{'name': 'Main Menu', 'sections': [{'name': '...</td>\n",
       "      <td>Luv2Eat Thai Bistro is located in Los Angeles,...</td>\n",
       "      <td>None</td>\n",
       "      <td>None</td>\n",
       "      <td>http://www.luv2eatthai.com/</td>\n",
       "      <td>(323) 498-5835</td>\n",
       "      <td>Thai</td>\n",
       "      <td>Casual Dining</td>\n",
       "      <td>None</td>\n",
       "      <td>Street Parking</td>\n",
       "      <td>Casual Dress</td>\n",
       "      <td>None</td>\n",
       "      <td>Lunch\\nDaily 11:00 am–3:30 pm\\nDinner\\nDaily 4...</td>\n",
       "      <td>2</td>\n",
       "      <td>$30 and under</td>\n",
       "      <td>[AMEX, Discover, MasterCard, Visa]</td>\n",
       "      <td>90</td>\n",
       "      <td>4.6</td>\n",
       "      <td>136</td>\n",
       "      <td>{'food': 4.7, 'noise': 2.0, 'value': 4.6, 'ser...</td>\n",
       "      <td>[2, 3, 4, 23, 104]</td>\n",
       "      <td>18</td>\n",
       "      <td>[Spicy, Casual, Neighborhood Gem]</td>\n",
       "      <td>[]</td>\n",
       "      <td>[]</td>\n",
       "      <td>[Delivery, Gluten-free Options, Late Night, No...</td>\n",
       "      <td>[]</td>\n",
       "      <td>{'bar': False, 'counter': False, 'gifting': No...</td>\n",
       "      <td>{'cleanMenus': None, 'limitedSeating': None, '...</td>\n",
       "      <td>None</td>\n",
       "      <td>http://www.facebook.com/luv2eatthaibistro/</td>\n",
       "      <td>http://sappclub.com/restaurant.aspx?r=205</td>\n",
       "      <td>[]</td>\n",
       "      <td>NaN</td>\n",
       "      <td>1</td>\n",
       "    </tr>\n",
       "    <tr>\n",
       "      <th>1</th>\n",
       "      <td>United States</td>\n",
       "      <td>California</td>\n",
       "      <td>Sherman Oaks</td>\n",
       "      <td>Jerry's Famous Deli</td>\n",
       "      <td>[American]</td>\n",
       "      <td>34.154596</td>\n",
       "      <td>-118.448700</td>\n",
       "      <td>Sherman Oaks</td>\n",
       "      <td>None</td>\n",
       "      <td>[{'name': 'Sample Menu', 'sections': [{'name':...</td>\n",
       "      <td>&lt;p&gt;Feast on delicious grub at Jerry's Famous D...</td>\n",
       "      <td>None</td>\n",
       "      <td>None</td>\n",
       "      <td>http://www.jerrysfamousdeli.com/</td>\n",
       "      <td>(818) 905-5774</td>\n",
       "      <td>American</td>\n",
       "      <td>Casual Dining</td>\n",
       "      <td>None</td>\n",
       "      <td>None</td>\n",
       "      <td>Business Casual</td>\n",
       "      <td>None</td>\n",
       "      <td>None</td>\n",
       "      <td>2</td>\n",
       "      <td>$30 and under</td>\n",
       "      <td>[]</td>\n",
       "      <td>90</td>\n",
       "      <td>0.0</td>\n",
       "      <td>0</td>\n",
       "      <td>{'food': 0.0, 'noise': 0.0, 'value': 0.0, 'ser...</td>\n",
       "      <td>[0, 0, 0, 0, 0]</td>\n",
       "      <td>0</td>\n",
       "      <td>[]</td>\n",
       "      <td>[]</td>\n",
       "      <td>[]</td>\n",
       "      <td>[]</td>\n",
       "      <td>[]</td>\n",
       "      <td>{'bar': None, 'counter': None, 'gifting': None...</td>\n",
       "      <td>{'cleanMenus': None, 'limitedSeating': None, '...</td>\n",
       "      <td>None</td>\n",
       "      <td>None</td>\n",
       "      <td>None</td>\n",
       "      <td>[]</td>\n",
       "      <td>NaN</td>\n",
       "      <td>2</td>\n",
       "    </tr>\n",
       "    <tr>\n",
       "      <th>2</th>\n",
       "      <td>United States</td>\n",
       "      <td>California</td>\n",
       "      <td>Pasadena</td>\n",
       "      <td>Terrace Sushi</td>\n",
       "      <td>[Spanish]</td>\n",
       "      <td>34.145800</td>\n",
       "      <td>-118.142900</td>\n",
       "      <td>Pasadena</td>\n",
       "      <td>443 E Colorado Blvd, , CA, Pasadena, 91101, Un...</td>\n",
       "      <td>[{'name': 'Main Menu', 'sections': [{'name': '...</td>\n",
       "      <td>&lt;p&gt;Terrace Sushi serves Japanese cuisines to i...</td>\n",
       "      <td>None</td>\n",
       "      <td>None</td>\n",
       "      <td>None</td>\n",
       "      <td>(626) 584-0503</td>\n",
       "      <td>Spanish</td>\n",
       "      <td>Casual Dining</td>\n",
       "      <td>None</td>\n",
       "      <td>None</td>\n",
       "      <td>Business Casual</td>\n",
       "      <td>None</td>\n",
       "      <td>None</td>\n",
       "      <td>2</td>\n",
       "      <td>$30 and under</td>\n",
       "      <td>[]</td>\n",
       "      <td>90</td>\n",
       "      <td>0.0</td>\n",
       "      <td>0</td>\n",
       "      <td>{'food': 0.0, 'noise': 0.0, 'value': 0.0, 'ser...</td>\n",
       "      <td>[0, 0, 0, 0, 0]</td>\n",
       "      <td>0</td>\n",
       "      <td>[]</td>\n",
       "      <td>[]</td>\n",
       "      <td>[]</td>\n",
       "      <td>[]</td>\n",
       "      <td>[]</td>\n",
       "      <td>{'bar': None, 'counter': None, 'gifting': None...</td>\n",
       "      <td>{'cleanMenus': None, 'limitedSeating': None, '...</td>\n",
       "      <td>None</td>\n",
       "      <td>None</td>\n",
       "      <td>None</td>\n",
       "      <td>[]</td>\n",
       "      <td>NaN</td>\n",
       "      <td>3</td>\n",
       "    </tr>\n",
       "  </tbody>\n",
       "</table>\n",
       "</div>"
      ],
      "text/plain": [
       "         country   subregion          city           brand_name  categories  \\\n",
       "0  United States  California   Los Angeles  Luv2Eat Thai Bistro      [Thai]   \n",
       "1  United States  California  Sherman Oaks  Jerry's Famous Deli  [American]   \n",
       "2  United States  California      Pasadena        Terrace Sushi   [Spanish]   \n",
       "\n",
       "    latitude   longitude          area  \\\n",
       "0  34.097510 -118.335921     Hollywood   \n",
       "1  34.154596 -118.448700  Sherman Oaks   \n",
       "2  34.145800 -118.142900      Pasadena   \n",
       "\n",
       "                                             address  \\\n",
       "0  6660 W Sunset Blvd, Ste P, CA, Los Angeles, 90...   \n",
       "1                                               None   \n",
       "2  443 E Colorado Blvd, , CA, Pasadena, 91101, Un...   \n",
       "\n",
       "                                                menu  \\\n",
       "0  [{'name': 'Main Menu', 'sections': [{'name': '...   \n",
       "1  [{'name': 'Sample Menu', 'sections': [{'name':...   \n",
       "2  [{'name': 'Main Menu', 'sections': [{'name': '...   \n",
       "\n",
       "                                         description public_transit  \\\n",
       "0  Luv2Eat Thai Bistro is located in Los Angeles,...           None   \n",
       "1  <p>Feast on delicious grub at Jerry's Famous D...           None   \n",
       "2  <p>Terrace Sushi serves Japanese cuisines to i...           None   \n",
       "\n",
       "  cross_street                restaurant_website    phone_number  \\\n",
       "0         None       http://www.luv2eatthai.com/  (323) 498-5835   \n",
       "1         None  http://www.jerrysfamousdeli.com/  (818) 905-5774   \n",
       "2         None                              None  (626) 584-0503   \n",
       "\n",
       "  primary_cuisine   dining_style executive_chef_name    parking_info  \\\n",
       "0            Thai  Casual Dining                None  Street Parking   \n",
       "1        American  Casual Dining                None            None   \n",
       "2         Spanish  Casual Dining                None            None   \n",
       "\n",
       "        dress_code entertainment  \\\n",
       "0     Casual Dress          None   \n",
       "1  Business Casual          None   \n",
       "2  Business Casual          None   \n",
       "\n",
       "                                     operating_hours  price_range_id  \\\n",
       "0  Lunch\\nDaily 11:00 am–3:30 pm\\nDinner\\nDaily 4...               2   \n",
       "1                                               None               2   \n",
       "2                                               None               2   \n",
       "\n",
       "     price_range                     payment_options  \\\n",
       "0  $30 and under  [AMEX, Discover, MasterCard, Visa]   \n",
       "1  $30 and under                                  []   \n",
       "2  $30 and under                                  []   \n",
       "\n",
       "   maximum_days_advance_for_reservation  rating  rating_count  \\\n",
       "0                                    90     4.6           136   \n",
       "1                                    90     0.0             0   \n",
       "2                                    90     0.0             0   \n",
       "\n",
       "                                   rating_by_feature rating_distribution  \\\n",
       "0  {'food': 4.7, 'noise': 2.0, 'value': 4.6, 'ser...  [2, 3, 4, 23, 104]   \n",
       "1  {'food': 0.0, 'noise': 0.0, 'value': 0.0, 'ser...     [0, 0, 0, 0, 0]   \n",
       "2  {'food': 0.0, 'noise': 0.0, 'value': 0.0, 'ser...     [0, 0, 0, 0, 0]   \n",
       "\n",
       "   review_count                      review_topics awards experiences  \\\n",
       "0            18  [Spicy, Casual, Neighborhood Gem]     []          []   \n",
       "1             0                                 []     []          []   \n",
       "2             0                                 []     []          []   \n",
       "\n",
       "                                                tags editorial_lists  \\\n",
       "0  [Delivery, Gluten-free Options, Late Night, No...              []   \n",
       "1                                                 []              []   \n",
       "2                                                 []              []   \n",
       "\n",
       "                                           checklist  \\\n",
       "0  {'bar': False, 'counter': False, 'gifting': No...   \n",
       "1  {'bar': None, 'counter': None, 'gifting': None...   \n",
       "2  {'bar': None, 'counter': None, 'gifting': None...   \n",
       "\n",
       "                                  safety_precautions order_online_link  \\\n",
       "0  {'cleanMenus': None, 'limitedSeating': None, '...              None   \n",
       "1  {'cleanMenus': None, 'limitedSeating': None, '...              None   \n",
       "2  {'cleanMenus': None, 'limitedSeating': None, '...              None   \n",
       "\n",
       "                                     facebook  \\\n",
       "0  http://www.facebook.com/luv2eatthaibistro/   \n",
       "1                                        None   \n",
       "2                                        None   \n",
       "\n",
       "                                    menu_url popular_dishes  \\\n",
       "0  http://sappclub.com/restaurant.aspx?r=205             []   \n",
       "1                                       None             []   \n",
       "2                                       None             []   \n",
       "\n",
       "   daily_reservation_count  restaurant_id  \n",
       "0                      NaN              1  \n",
       "1                      NaN              2  \n",
       "2                      NaN              3  "
      ]
     },
     "execution_count": 4,
     "metadata": {},
     "output_type": "execute_result"
    }
   ],
   "source": [
    "df[\"restaurant_id\"] = range(1, len(df) + 1)\n",
    "df.head(3)"
   ]
  },
  {
   "cell_type": "markdown",
   "id": "0b5d359f-7c75-40b4-81a2-b294fd9e388c",
   "metadata": {},
   "source": [
    "### 2.2 Basic Operations 🔧 (4 points)"
   ]
  },
  {
   "cell_type": "markdown",
   "id": "47f2c62f-da56-40f1-abda-29ba3ee4a5a3",
   "metadata": {},
   "source": [
    "#### 2.2.1 Restaurants by City 🌆 (1 point)\n",
    "\n",
    "For each city in california, find\n",
    "\n",
    "1. the number of restaurants in that city,\n",
    "2. mean `rating` of all restaurants in the city,\n",
    "3. mean `price_range_id` per city,\n",
    "4. mean `maximum_days_advance_for_reservation` per city\n",
    "\n",
    "sort by number of restaurants.\n",
    "\n",
    "The resulting dataframe's top 5 rows would look as follows:\n",
    "\n",
    "| city          | restaurant_count | avg_rating | avg_price_range_id | avg_reservation_advance |\n",
    "| :------------ | ---------------: | ---------: | -----------------: | ----------------------: |\n",
    "| San Francisco |             1645 |    2.59343 |             2.3617 |                 90.3453 |\n",
    "| Los Angeles   |             1604 |    2.31995 |            2.29052 |                  86.692 |\n",
    "| San Diego     |             1034 |    2.65493 |            2.28723 |                 94.5783 |\n",
    "| San Jose      |              372 |    1.54597 |            2.16398 |                 88.3011 |\n",
    "| Sacramento    |              329 |    1.68663 |            2.26748 |                 95.0274 |\n"
   ]
  },
  {
   "cell_type": "code",
   "execution_count": 5,
   "id": "0a730825-0f6d-49fd-8803-8b3e81fcd752",
   "metadata": {},
   "outputs": [],
   "source": [
    "# ✏️ YOUR CODE HERE\n"
   ]
  },
  {
   "cell_type": "markdown",
   "id": "8b26973b-27bf-4aa3-bd41-72a502e8ce31",
   "metadata": {},
   "source": [
    "#### 2.2.2 Restaurants by Brand 🍔 (1 point)\n",
    "\n",
    "For each brand (`brand_name`) in california, find\n",
    "\n",
    "1. the number of restaurants that belong to that brand,\n",
    "2. mean `price_range_id` of the brand across its restaurants\n",
    "\n",
    "sort by number of restaurants.\n",
    "\n",
    "The resulting dataframe's top 5 rows would look as follows:\n",
    "\n",
    "| brand_name               | restaurant_count | avg_price_range_id |\n",
    "| :----------------------- | ---------------: | -----------------: |\n",
    "| Denny's                  |               73 |                  2 |\n",
    "| Ihop                     |               37 |                  2 |\n",
    "| Buffalo Wild Wings       |               32 |                  2 |\n",
    "| Black Bear Diner         |               28 |                  2 |\n",
    "| Coco's Bakery Restaurant |               24 |                  2 |\n"
   ]
  },
  {
   "cell_type": "code",
   "execution_count": 6,
   "id": "7f230d14-518e-4bf4-bbeb-8fc5804ff0f1",
   "metadata": {},
   "outputs": [],
   "source": [
    "# ✏️ YOUR CODE HERE\n"
   ]
  },
  {
   "cell_type": "markdown",
   "id": "8111c4e6-5655-487a-a2cc-179744d747cb",
   "metadata": {},
   "source": [
    "#### 2.2.3 Visualize Brands 📊 (2 points)\n",
    "\n",
    "Create a bar chart of top 5 brands in california by average number of reviews where each brand has at least 5 restaurants\n"
   ]
  },
  {
   "cell_type": "code",
   "execution_count": 7,
   "id": "56fb034d-b9a6-4ad7-a498-17e75f5f8781",
   "metadata": {},
   "outputs": [],
   "source": [
    "# ✏️ YOUR CODE HERE\n"
   ]
  },
  {
   "cell_type": "markdown",
   "id": "ad7f78bb-91d8-4b1a-8cb0-0a60dd1b9e4c",
   "metadata": {},
   "source": [
    "### 2.3 Transform Columns 🚚 (15 Points)\n",
    "\n",
    "<img src=\"https://media.giphy.com/media/2f41Z7bhKGvbG/giphy.gif\" height=\"250px\" width=\"250px\" alt=\"harry potter\">"
   ]
  },
  {
   "cell_type": "markdown",
   "id": "8cf2c3d6-5a03-4eb5-b568-7c8e265fd448",
   "metadata": {},
   "source": [
    "#### 2.3.1 Safety Precautions 🦺 (2 points)\n",
    "\n",
    "Transform the entire safety precautions column into a new column based on the following rule:\n",
    "\n",
    "Convert from dictionary to list. Only include in the list, those keys in the dictionary which are true.\n",
    "For ex, for safety precautions of the type:\n",
    "\n",
    "```python\n",
    "{\n",
    "    'cleanMenus': True,\n",
    "    'limitedSeating': False,\n",
    "    'sealedUtensils': None,\n",
    "    'prohibitSickStaff': True,\n",
    "    'requireDinerMasks': True,\n",
    "    'staffIsVaccinated': None,\n",
    "    'proofOfVaccinationRequired': False,\n",
    "    'sanitizerProvidedForCustomers': None\n",
    "}\n",
    "```\n",
    "\n",
    "It should turn into a list of the form:\n",
    "\n",
    "```python\n",
    "[\"Clean Menus\", \"Prohibit Sick Staff\", \"Require Diner Masks\"]\n",
    "```\n"
   ]
  },
  {
   "cell_type": "code",
   "execution_count": 8,
   "id": "e5201dc9",
   "metadata": {},
   "outputs": [],
   "source": [
    "# ✏️ YOUR CODE HERE\n"
   ]
  },
  {
   "cell_type": "markdown",
   "id": "28008039-4e56-4876-b4f3-faee50990b0f",
   "metadata": {},
   "source": [
    "#### 2.3.2 Clean up HTML text 🥜 (2 points)\n",
    "\n",
    "Find columns containing text / strings that have html text and remove those HTML texts\n",
    "\n",
    "ex:\n",
    "\n",
    "```html\n",
    "<p>\n",
    "  Feast on delicious grub at Jerry's Famous Deli.<br />\n",
    "  Its retro-style casual setting features comfortable booth seating.\n",
    "</p>\n",
    "```\n",
    "\n",
    "to:\n",
    "\n",
    "```\n",
    "Feast on delicious grub at Jerry's Famous Deli. Its retro-style casual setting features comfortable booth seating.\n",
    "```\n"
   ]
  },
  {
   "cell_type": "code",
   "execution_count": 9,
   "id": "3b807861-41ac-42c6-9792-6e8783d76539",
   "metadata": {},
   "outputs": [],
   "source": [
    "# ✏️ YOUR CODE HERE\n"
   ]
  },
  {
   "cell_type": "markdown",
   "id": "ecb76263-094a-4ee6-842d-24da225eb72d",
   "metadata": {},
   "source": [
    "#### 2.3.3 Imputing 📈 (3 points)\n",
    "\n",
    "Fill up missing values for rating, rating count and review count by imputing based on the following columns in order:\n",
    "\n",
    "1. `brand_name`\n",
    "2. `area`\n",
    "3. `city`\n",
    "\n",
    "This means that if `rating` is missing for a restaurant (null / 0), but that restaurant is part of a brand where\n",
    "other restaurants of the same brand have ratings, then a median rating is taken. If brands are complete, then missing values are filled using\n",
    "area where the restaurant is located (median rating) and finally filled using the city's rating\n"
   ]
  },
  {
   "cell_type": "code",
   "execution_count": 10,
   "id": "93ac70d9-6b5a-482e-9c49-92556ed0b704",
   "metadata": {},
   "outputs": [],
   "source": [
    "# ✏️ YOUR CODE HERE\n"
   ]
  },
  {
   "cell_type": "markdown",
   "id": "ccbc10eb",
   "metadata": {},
   "source": [
    "#### 2.3.4 Analytical Transformations (8 points)\n",
    "\n",
    "Choose any one sub-section only to answer. The choice is yours\n",
    "\n",
    "<img src=\"https://media.giphy.com/media/SCt3Miv6ugvSg/giphy.gif\" height=\"250px\" width=\"250px\" alt=\"the matrix\">\n"
   ]
  },
  {
   "cell_type": "markdown",
   "id": "8472e53d-b62e-4bb5-954c-b878d295b6af",
   "metadata": {},
   "source": [
    "##### 2.3.4a Operating Hours 🕰️\n",
    "\n",
    "Create an operating hours [bitmap](https://en.wikipedia.org/wiki/Bit_array) column from the operating hours text column for all restaurants. The bitmap would be a matrix of size 24 x 7 where a 1 or 0 on each cell indicates whether the restaurant is operating on a specific day at a specific hour\n",
    "\n",
    "Example: For operating hours text of the form:\n",
    "\n",
    "```tex\n",
    "Lunch\n",
    "Daily 11:00 am–3:30 pm\n",
    "Dinner\n",
    "Daily 4:30 pm–11:30 pm\n",
    "```\n",
    "\n",
    "Create a bitmap of the following form:\n",
    "\n",
    "```json\n",
    "{\n",
    "    \"Monday\" : [0,0,0,0,0,0,0,0,0,0,0,1,1,1,1,1,0,1,1,1,1,1,1,1],\n",
    "    \"Tuesday\" : [0,0,0,0,0,0,0,0,0,0,0,1,1,1,1,1,0,1,1,1,1,1,1,1],\n",
    "    .\n",
    "    .\n",
    "    .\n",
    "    \"Sunday\" : [0,0,0,0,0,0,0,0,0,0,0,1,1,1,1,1,0,1,1,1,1,1,1,1],\n",
    "\n",
    "}\n",
    "```\n"
   ]
  },
  {
   "cell_type": "code",
   "execution_count": 17,
   "id": "5138cd99-9cc4-4b67-8f37-3a3efe29853a",
   "metadata": {},
   "outputs": [],
   "source": [
    "# ✏️ YOUR CODE HERE"
   ]
  },
  {
   "cell_type": "markdown",
   "id": "4a5c110b-691b-4559-b82b-9b0ae02ec27b",
   "metadata": {},
   "source": [
    "##### 2.3.4b On my radar 🗺️\n",
    "\n",
    "For the following restaurant:\n",
    "\n",
    "- brand_name `Calzone's Pizza Cucina`\n",
    "- coordinates `37.799068, -122.408226`.\n",
    "\n",
    "Answer these questions:\n",
    "\n",
    "- How many restaurants exist within a 100 meter radius of this restaurant?\n",
    "- What is the most frequent cuisine (`category`) occurence in this 100m radius across the restaurants that exist in that range?"
   ]
  },
  {
   "cell_type": "code",
   "execution_count": 18,
   "id": "15707fe2-64b4-4eb0-bc61-a524372f0cf1",
   "metadata": {},
   "outputs": [],
   "source": [
    "# ✏️ YOUR CODE HERE\n"
   ]
  },
  {
   "cell_type": "markdown",
   "id": "a82a9eb9-5d71-4147-91bf-afe66be239c5",
   "metadata": {},
   "source": [
    "---"
   ]
  },
  {
   "cell_type": "markdown",
   "id": "58a351f2-1975-4c02-a7dd-bc1ee4b60ab7",
   "metadata": {
    "tags": []
   },
   "source": [
    "### 2.4 Menu-Level Table 🧾 (8 points)\n",
    "\n",
    "<img src=\"https://media.giphy.com/media/qpLuA97QGOsnK/giphy.gif\" height=\"250px\" width=\"250px\" alt=\"ratatouille\">\n",
    "\n",
    "**Create a menu-level table by parsing out menu items from the `menu` column per restaurant.**\n",
    "\n",
    "Every restaurant has a `menu` column that contains deeply nested JSON data on the restaurant's menu. The hierarchy is as follows: \n",
    "\n",
    "* One restaurant can have multiple menus (morning menu, evening menu, etc.)\n",
    "    * Each menu can have a description and provider\n",
    "* Each restaurant menu can have multiple sections (such as Appetizers, Desserts, etc.)\n",
    "    * Each section has a description\n",
    "* Each section can have multiple menu items (such as Latte, Apple Pie, Carrot Halwa, etc.)\n",
    "    * Each menu item has a price, currency and description\n",
    "\n",
    "You need to parse out the menu data from the JSON in the `menu` column for each restaurant and have a restaurants x menu table as shown below. \n",
    "\n",
    "| restaurant_id | menu_name | menu_description | menu_provider | section_name | section_description | item_name          | item_description                                                                                                      | item_price | item_price_currency |\n",
    "| ------------: | :-------- | :--------------- | ------------: | :----------- | :------------------ | :----------------- | :-------------------------------------------------------------------------------------------------------------------- | ---------: | :------------------ |\n",
    "|             1 | Main Menu |                  |           nan | Appetizers   |                     | Egg Rolls          | Deep fried mixed veggie egg rolls served with sweet & sour sauce                                                      |          8 | USD                 |\n",
    "|             1 | Main Menu |                  |           nan | Appetizers   |                     | Fried Tofu         | (Contains Peanut) Deep fried tofu, served with sweet & sour sauce and crushed peanut                                  |          8 | USD                 |\n",
    "|             1 | Main Menu |                  |           nan | Appetizers   |                     | Fried Meat Balls   | Deep fried fish, pork, beef balls or mixed served with sweet & sour sauce. Meat: Beef $1, Fish, Mixed Meat ball, Pork |        8.5 | USD                 |\n",
    "|             1 | Main Menu |                  |           nan | Appetizers   |                     | Pork Jerky         | Deep fried marinated pork served with special jaew sauce                                                              |        8.5 | USD                 |\n",
    "|             1 | Main Menu |                  |           nan | Appetizers   |                     | Thai Isaan Sausage | (Contains Peanut) Thai Style sausage served with fresh vegetables and peanuts                                         |          9 | USD                 |\n"
   ]
  },
  {
   "cell_type": "code",
   "execution_count": 11,
   "id": "c90a62c3",
   "metadata": {
    "scrolled": false
   },
   "outputs": [],
   "source": [
    "# ✏️ YOUR CODE HERE\n"
   ]
  },
  {
   "cell_type": "markdown",
   "id": "b1415f5d-2c5e-4cd6-a59a-9a6bb9d04771",
   "metadata": {},
   "source": [
    "### 3.1 Analytical Questions ⚗️ (10 points)\n",
    "\n",
    "**Answer ONLY ONE of the Questions using the Data, i.e, choose between `3.1.1`, `3.1.2` or `3.1.3`**\n",
    "\n",
    "<img src=\"https://media.giphy.com/media/3o7TKVSE5isogWqnwk/giphy.gif\" height=\"250px\" width=\"250px\" alt=\"sherlock holmes\">\n",
    "\n",
    "> Note that the analytical questions may sometimes require converting categorical type columns that are lists or strings into numeric columns. For ex. \"Casual Dining\", \"Fine Dining\"..etc. would require you to generate a categorical encoding of 1,2..etc. For columns that contain lists like `categories`, which contain cuisine tags, a one-hot or multi-hot encoding technique may be required based on the situation. A numeric categorical encoding is required for these string or list based columns since pandas cannot (usually) automatically generate correlations or clusters based on text-based categories\n"
   ]
  },
  {
   "cell_type": "markdown",
   "id": "7ea37141-d478-4b97-879e-48ead1c08ba0",
   "metadata": {},
   "source": [
    "#### 3.1.1 Take me out for dinner 🕯️\n",
    "\n",
    "Which areas according to you have the best restaurants in California and why? You can define best based on whatever criteria you wish as long as it involves measuring more than a single column. For ex. You cannot merely claim that the restaurant with the highest rating is the best restaurant.\n"
   ]
  },
  {
   "cell_type": "code",
   "execution_count": 12,
   "id": "cd7bb2ec-cf0b-474c-8e22-ec25751f483c",
   "metadata": {},
   "outputs": [],
   "source": [
    "# ✏️ YOUR CODE HERE\n"
   ]
  },
  {
   "cell_type": "markdown",
   "id": "060f9bd8",
   "metadata": {},
   "source": [
    "### 🍴 BEST Area to eat out goes to \"West Hollywood\"\n",
    "\n",
    "Their are various reason why West Hollywood is the best place to eat out,\\\n",
    "Because,\n",
    "1. We are already filter out those restaurants less reviews which less people have visited it.\n",
    "2. The Award is not only based on rating and reviews counts of the area but also the categories of food you can have\n",
    "3. One of the best reasons is the area is not pricey insplit of the categories of food it is providing\n",
    "4. Area have decent amount of reatuarants so one can easily hop on another place if not liked "
   ]
  },
  {
   "cell_type": "markdown",
   "id": "6fc6b3a5-e173-4720-8a80-216a7bf14e4f",
   "metadata": {},
   "source": [
    "#### 3.1.2 Michelin Approves 🎖️\n",
    "\n",
    "Which columns seem to play / not play a major factor in whether or not the restaurant has an award? Justify your options\n"
   ]
  },
  {
   "cell_type": "code",
   "execution_count": 101,
   "id": "ce8dd39a-ca91-43e2-bfd5-23cf96701efc",
   "metadata": {},
   "outputs": [
    {
     "data": {
      "text/html": [
       "<div>\n",
       "<style scoped>\n",
       "    .dataframe tbody tr th:only-of-type {\n",
       "        vertical-align: middle;\n",
       "    }\n",
       "\n",
       "    .dataframe tbody tr th {\n",
       "        vertical-align: top;\n",
       "    }\n",
       "\n",
       "    .dataframe thead th {\n",
       "        text-align: right;\n",
       "    }\n",
       "</style>\n",
       "<table border=\"1\" class=\"dataframe\">\n",
       "  <thead>\n",
       "    <tr style=\"text-align: right;\">\n",
       "      <th></th>\n",
       "      <th>Most Booked</th>\n",
       "      <th>Best Ambiance</th>\n",
       "      <th>Best Food</th>\n",
       "      <th>Best Overall</th>\n",
       "      <th>Best Service</th>\n",
       "      <th>Best Value</th>\n",
       "      <th>Special Occasion</th>\n",
       "      <th>Romantic</th>\n",
       "      <th>Fit for Foodies</th>\n",
       "      <th>Vibrant Bar Scene</th>\n",
       "    </tr>\n",
       "  </thead>\n",
       "  <tbody>\n",
       "    <tr>\n",
       "      <th>award_count</th>\n",
       "      <td>414</td>\n",
       "      <td>404</td>\n",
       "      <td>402</td>\n",
       "      <td>402</td>\n",
       "      <td>401</td>\n",
       "      <td>400</td>\n",
       "      <td>398</td>\n",
       "      <td>393</td>\n",
       "      <td>391</td>\n",
       "      <td>389</td>\n",
       "    </tr>\n",
       "  </tbody>\n",
       "</table>\n",
       "</div>"
      ],
      "text/plain": [
       "             Most Booked  Best Ambiance  Best Food  Best Overall  \\\n",
       "award_count          414            404        402           402   \n",
       "\n",
       "             Best Service  Best Value  Special Occasion  Romantic  \\\n",
       "award_count           401         400               398       393   \n",
       "\n",
       "             Fit for Foodies  Vibrant Bar Scene  \n",
       "award_count              391                389  "
      ]
     },
     "execution_count": 101,
     "metadata": {},
     "output_type": "execute_result"
    }
   ],
   "source": [
    "# simple dataframe to look at distribution of awards across california by most awarded titles\n",
    "awards_df: pd.DataFrame = pd.json_normalize(df[\"awards\"].dropna().explode()).rename(\n",
    "    columns={\"name\": \"award_name\", \"location\": \"award_location\"}\n",
    ")\n",
    "awards_df[\"award_name\"].value_counts().to_frame().head(10).rename(\n",
    "    columns={\"award_name\": \"award_count\"}\n",
    ").transpose()"
   ]
  },
  {
   "cell_type": "code",
   "execution_count": 19,
   "id": "7910b3c6-88b2-41e3-9d68-a9c669e7ebd0",
   "metadata": {},
   "outputs": [],
   "source": [
    "# ✏️ YOUR CODE HERE"
   ]
  },
  {
   "cell_type": "markdown",
   "id": "a0ad2e08-ca7e-49d0-b57b-451af09bd925",
   "metadata": {},
   "source": [
    "#### 3.1.3 Principal Components 🥨\n",
    "\n",
    "Which columns are highly correlated between each other and can be treated as redundant?\n"
   ]
  },
  {
   "cell_type": "code",
   "execution_count": null,
   "id": "e3481f40-02d8-4fea-a9e5-d55bdbc98479",
   "metadata": {},
   "outputs": [],
   "source": [
    "# ✏️ YOUR CODE HERE - may require encoding categorical string variables"
   ]
  },
  {
   "cell_type": "markdown",
   "id": "54f74bcd",
   "metadata": {},
   "source": [
    "---\n",
    "\n",
    "Good job!\n",
    "\n",
    "<img src=\"https://media.giphy.com/media/qLhxN7Rp3PI8E/giphy.gif\" height=\"250px\" width=\"250px\" alt=\"legend of zelda\">"
   ]
  }
 ],
 "metadata": {
  "kernelspec": {
   "display_name": "Python 3 (ipykernel)",
   "language": "python",
   "name": "python3"
  },
  "language_info": {
   "codemirror_mode": {
    "name": "ipython",
    "version": 3
   },
   "file_extension": ".py",
   "mimetype": "text/x-python",
   "name": "python",
   "nbconvert_exporter": "python",
   "pygments_lexer": "ipython3",
   "version": "3.9.12"
  },
  "toc-showtags": false,
  "vscode": {
   "interpreter": {
    "hash": "5a95100a7d3b4e320db1551c68e327e796fcc58a9206dc42c48870a93129471d"
   }
  }
 },
 "nbformat": 4,
 "nbformat_minor": 5
}
